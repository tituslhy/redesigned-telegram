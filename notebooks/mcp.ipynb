{
 "cells": [
  {
   "cell_type": "code",
   "execution_count": 1,
   "id": "5b2035eb",
   "metadata": {},
   "outputs": [],
   "source": [
    "from langgraph.prebuilt import create_react_agent\n",
    "from langchain_mcp_adapters.client import MultiServerMCPClient\n",
    "from langchain_ollama import ChatOllama"
   ]
  },
  {
   "cell_type": "code",
   "execution_count": 2,
   "id": "29cbc51e",
   "metadata": {},
   "outputs": [],
   "source": [
    "llm = ChatOllama(model=\"qwen2.5\", temperature=0)\n",
    "mcp_client = MultiServerMCPClient(\n",
    "    {\n",
    "        'weater': {\n",
    "            'url': 'http://127.0.0.1:3000/sse',\n",
    "            'transport': 'sse',\n",
    "        }\n",
    "    }\n",
    ")"
   ]
  },
  {
   "cell_type": "code",
   "execution_count": 3,
   "id": "6e5cdc06",
   "metadata": {},
   "outputs": [],
   "source": [
    "import nest_asyncio\n",
    "nest_asyncio.apply()\n",
    "\n",
    "tools = await mcp_client.get_tools()"
   ]
  },
  {
   "cell_type": "code",
   "execution_count": 4,
   "id": "ea70eabd",
   "metadata": {},
   "outputs": [
    {
     "data": {
      "text/plain": [
       "[StructuredTool(name='get_weather', args_schema={'properties': {'location': {'title': 'Location', 'type': 'string'}}, 'required': ['location'], 'type': 'object'}, response_format='content_and_artifact', coroutine=<function convert_mcp_tool_to_langchain_tool.<locals>.call_tool at 0x1074d53a0>)]"
      ]
     },
     "execution_count": 4,
     "metadata": {},
     "output_type": "execute_result"
    }
   ],
   "source": [
    "tools"
   ]
  },
  {
   "cell_type": "code",
   "execution_count": 5,
   "id": "39f90812",
   "metadata": {},
   "outputs": [],
   "source": [
    "agent = create_react_agent(llm,tools)"
   ]
  },
  {
   "cell_type": "code",
   "execution_count": 6,
   "id": "6d7e402b",
   "metadata": {},
   "outputs": [],
   "source": [
    "from langchain_core.messages import HumanMessage, ToolMessage"
   ]
  },
  {
   "cell_type": "code",
   "execution_count": 18,
   "id": "7a097515",
   "metadata": {},
   "outputs": [
    {
     "name": "stdout",
     "output_type": "stream",
     "text": [
      "content='' additional_kwargs={} response_metadata={} id='run--d567a2cb-0f5e-404d-bc96-626ffaee4077' tool_calls=[{'name': 'get_weather', 'args': {'location': 'Singapore'}, 'id': '03abbd80-0ea4-40b9-a64a-3314d5e69883', 'type': 'tool_call'}] tool_call_chunks=[{'name': 'get_weather', 'args': '{\"location\": \"Singapore\"}', 'id': '03abbd80-0ea4-40b9-a64a-3314d5e69883', 'index': None, 'type': 'tool_call_chunk'}]\n",
      "content='' additional_kwargs={} response_metadata={'model': 'qwen2.5', 'created_at': '2025-07-15T23:07:37.990948Z', 'done': True, 'done_reason': 'stop', 'total_duration': 486674584, 'load_duration': 38367625, 'prompt_eval_count': 155, 'prompt_eval_duration': 138783084, 'eval_count': 20, 'eval_duration': 308441125, 'model_name': 'qwen2.5'} id='run--d567a2cb-0f5e-404d-bc96-626ffaee4077' usage_metadata={'input_tokens': 155, 'output_tokens': 20, 'total_tokens': 175}\n",
      "content='The weather in Singapore is sunny.' name='get_weather' id='ae9527b8-943f-461f-a51b-ae4dd9797b65' tool_call_id='03abbd80-0ea4-40b9-a64a-3314d5e69883'\n",
      "content='The' additional_kwargs={} response_metadata={} id='run--8e4137d1-bf08-455d-b771-310a89739880'\n",
      "content=' current' additional_kwargs={} response_metadata={} id='run--8e4137d1-bf08-455d-b771-310a89739880'\n",
      "content=' weather' additional_kwargs={} response_metadata={} id='run--8e4137d1-bf08-455d-b771-310a89739880'\n",
      "content=' in' additional_kwargs={} response_metadata={} id='run--8e4137d1-bf08-455d-b771-310a89739880'\n",
      "content=' Singapore' additional_kwargs={} response_metadata={} id='run--8e4137d1-bf08-455d-b771-310a89739880'\n",
      "content=' is' additional_kwargs={} response_metadata={} id='run--8e4137d1-bf08-455d-b771-310a89739880'\n",
      "content=' sunny' additional_kwargs={} response_metadata={} id='run--8e4137d1-bf08-455d-b771-310a89739880'\n",
      "content='.' additional_kwargs={} response_metadata={} id='run--8e4137d1-bf08-455d-b771-310a89739880'\n",
      "content='' additional_kwargs={} response_metadata={'model': 'qwen2.5', 'created_at': '2025-07-15T23:07:38.248113Z', 'done': True, 'done_reason': 'stop', 'total_duration': 225712542, 'load_duration': 20620209, 'prompt_eval_count': 198, 'prompt_eval_duration': 73206208, 'eval_count': 9, 'eval_duration': 129071334, 'model_name': 'qwen2.5'} id='run--8e4137d1-bf08-455d-b771-310a89739880' usage_metadata={'input_tokens': 198, 'output_tokens': 9, 'total_tokens': 207}\n"
     ]
    }
   ],
   "source": [
    "\n",
    "async for chunk, metadata in agent.astream(\n",
    "    {\n",
    "        'messages': [\n",
    "            HumanMessage(\n",
    "                content=\"What is the weather in Singapore right now?\"\n",
    "            )\n",
    "        ],\n",
    "    },\n",
    "    stream_mode='messages',\n",
    "):\n",
    "    print(chunk)"
   ]
  },
  {
   "cell_type": "code",
   "execution_count": 23,
   "id": "0c01729c",
   "metadata": {},
   "outputs": [
    {
     "name": "stdout",
     "output_type": "stream",
     "text": [
      "{'agent': {'messages': [AIMessage(content='', additional_kwargs={}, response_metadata={'model': 'qwen2.5', 'created_at': '2025-07-15T23:09:04.548224Z', 'done': True, 'done_reason': 'stop', 'total_duration': 488774000, 'load_duration': 39312584, 'prompt_eval_count': 159, 'prompt_eval_duration': 135725458, 'eval_count': 20, 'eval_duration': 312555750, 'model_name': 'qwen2.5'}, id='run--06a60e87-0e5f-4b6a-888c-ecac99c3da74-0', tool_calls=[{'name': 'get_weather', 'args': {'city': 'sf'}, 'id': '57decb07-217f-40f4-835c-87ccdbdf3a54', 'type': 'tool_call'}], usage_metadata={'input_tokens': 159, 'output_tokens': 20, 'total_tokens': 179})]}}\n",
      "\n",
      "\n",
      "Looking up data for city: sf\n",
      "\n",
      "\n",
      "{'tools': {'messages': [ToolMessage(content=\"It's always sunny in sf!\", name='get_weather', tool_call_id='57decb07-217f-40f4-835c-87ccdbdf3a54')]}}\n",
      "\n",
      "\n",
      "{'agent': {'messages': [AIMessage(content='The weather in San Francisco is always sunny! However, for a more accurate and detailed weather report, I can check the current temperature and other conditions. Would you like me to provide that information?', additional_kwargs={}, response_metadata={'model': 'qwen2.5', 'created_at': '2025-07-15T23:09:05.27508Z', 'done': True, 'done_reason': 'stop', 'total_duration': 724258625, 'load_duration': 17203208, 'prompt_eval_count': 202, 'prompt_eval_duration': 73195791, 'eval_count': 40, 'eval_duration': 631745875, 'model_name': 'qwen2.5'}, id='run--67036588-a47b-41d7-a8f9-cac110587257-0', usage_metadata={'input_tokens': 202, 'output_tokens': 40, 'total_tokens': 242})]}}\n",
      "\n",
      "\n"
     ]
    }
   ],
   "source": [
    "from langgraph.config import get_stream_writer\n",
    "\n",
    "def get_weather(city: str) -> str:\n",
    "    \"\"\"Get weather for a given city.\"\"\"\n",
    "    writer = get_stream_writer()\n",
    "    # stream any arbitrary data\n",
    "    writer(f\"Looking up data for city: {city}\")\n",
    "    return f\"It's always sunny in {city}!\"\n",
    "\n",
    "agent = create_react_agent(\n",
    "    model=llm,\n",
    "    tools=[get_weather],\n",
    ")\n",
    "\n",
    "for update_type, chunk in agent.stream(\n",
    "    {\"messages\": [{\"role\": \"user\", \"content\": \"what is the weather in sf\"}]},\n",
    "    stream_mode=[\"custom\", \"updates\"]\n",
    "):\n",
    "    print(chunk)\n",
    "    print(\"\\n\")"
   ]
  },
  {
   "cell_type": "code",
   "execution_count": null,
   "id": "2b863314",
   "metadata": {},
   "outputs": [],
   "source": []
  }
 ],
 "metadata": {
  "kernelspec": {
   "display_name": "redesigned-telegram",
   "language": "python",
   "name": "python3"
  },
  "language_info": {
   "codemirror_mode": {
    "name": "ipython",
    "version": 3
   },
   "file_extension": ".py",
   "mimetype": "text/x-python",
   "name": "python",
   "nbconvert_exporter": "python",
   "pygments_lexer": "ipython3",
   "version": "3.12.5"
  }
 },
 "nbformat": 4,
 "nbformat_minor": 5
}
